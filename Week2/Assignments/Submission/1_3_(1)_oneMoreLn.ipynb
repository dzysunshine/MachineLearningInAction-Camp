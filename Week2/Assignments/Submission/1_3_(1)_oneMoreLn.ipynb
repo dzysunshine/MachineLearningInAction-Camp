{
 "cells": [
  {
   "cell_type": "markdown",
   "metadata": {},
   "source": [
    "# 3.决策树\n",
    "\n",
    "## 调包"
   ]
  },
  {
   "cell_type": "code",
   "execution_count": 3,
   "metadata": {
    "collapsed": true
   },
   "outputs": [],
   "source": [
    "import numpy as np\n",
    "import matplotlib.pyplot as plt\n",
    "import operator\n",
    "%matplotlib inline"
   ]
  },
  {
   "cell_type": "markdown",
   "metadata": {},
   "source": [
    "## 3.1.决策树的构造\n",
    "### 3.1.1.计算给定数据集的香农熵\n",
    "信息量为概率的负对数，概率越小，信息量越大\n",
    "$$l(x_{i})=-log_{2}p(x_{i})$$\n",
    "香农熵为信息量的期望，统计平均\n",
    "$$H=E[l(x_{i})]=-\\sum_{i=1}^{n}p(x_{i})\\cdot log_{2}p(x_{i})$$"
   ]
  },
  {
   "cell_type": "code",
   "execution_count": 4,
   "metadata": {
    "collapsed": true
   },
   "outputs": [],
   "source": [
    "from math import log\n",
    "\n",
    "def calcShannonEnt(dataSet):\n",
    "    \"\"\"\n",
    "    计算香农熵\n",
    "    参数：\n",
    "        dataSet -- 数据集，包含不同类型\n",
    "    输出：\n",
    "        shannonEnt -- 香农熵\n",
    "    \"\"\"\n",
    "    #求数据集大小\n",
    "    numEntries = len(dataSet)\n",
    "    #新建一个用于统计各个类型数目的字典\n",
    "    labelCounts = {}\n",
    "    #遍历数据集中的每个数据\n",
    "    for featVec in dataSet:\n",
    "        #类型为数据中的最后一项\n",
    "        currentLabel = featVec[-1]\n",
    "        #如果之前没有记录该类型\n",
    "        if currentLabel not in labelCounts.keys():\n",
    "            #添加新的一项记录\n",
    "            labelCounts[currentLabel] = 0\n",
    "        #计数\n",
    "        labelCounts[currentLabel] += 1\n",
    "    #初始化香农熵\n",
    "    shannonEnt = 0.0\n",
    "    #遍历所有类型\n",
    "    for key in labelCounts:\n",
    "        #计算概率，古典概型\n",
    "        prob = np.float(labelCounts[key])/numEntries\n",
    "        #根据公式计算香农熵\n",
    "        shannonEnt -= prob * log(prob, 2)\n",
    "    return shannonEnt"
   ]
  },
  {
   "cell_type": "markdown",
   "metadata": {},
   "source": [
    "### 3.1.2.验证香农熵函数"
   ]
  },
  {
   "cell_type": "code",
   "execution_count": 5,
   "metadata": {
    "collapsed": true
   },
   "outputs": [],
   "source": [
    "#创造点数据\n",
    "def createDataSet():\n",
    "    \"\"\"\n",
    "    创造测试数据\n",
    "    参数：\n",
    "        无\n",
    "    输出：\n",
    "        dataSet -- 数据集\n",
    "        labels -- 标签\n",
    "    \"\"\"\n",
    "    dataSet = [[1, True, 'yes'],\n",
    "              [1, True, 'yes'],\n",
    "              [1, False, 'no'],\n",
    "              [0, True, 'no'],\n",
    "              [0, True, 'no']]\n",
    "    labels = ['no surfacing', 'flippers']\n",
    "    return dataSet, labels"
   ]
  },
  {
   "cell_type": "code",
   "execution_count": 13,
   "metadata": {
    "scrolled": true
   },
   "outputs": [
    {
     "name": "stdout",
     "output_type": "stream",
     "text": [
      "myDat = [[1, True, 'yes'], [1, True, 'yes'], [1, False, 'no'], [0, True, 'no'], [0, True, 'no']]\n",
      "myDat的香农熵 = 0.9709505944546686\n",
      "修改后的myDat = [[1, True, 'maybe'], [1, True, 'yes'], [1, False, 'no'], [0, True, 'no'], [0, True, 'no']]\n",
      "修改后的myDat的香农熵 = 1.3709505944546687\n"
     ]
    }
   ],
   "source": [
    "myDat, labels = createDataSet()\n",
    "print(\"myDat = {}\".format(myDat))\n",
    "print(\"myDat的香农熵 = {}\".format(calcShannonEnt(myDat)))\n",
    "myDat[0][-1] = 'maybe'\n",
    "print(\"修改后的myDat = {}\".format(myDat))\n",
    "print(\"修改后的myDat的香农熵 = {}\".format(calcShannonEnt(myDat)))"
   ]
  },
  {
   "cell_type": "markdown",
   "metadata": {},
   "source": [
    "### 3.1.3.划分数据集"
   ]
  },
  {
   "cell_type": "code",
   "execution_count": 14,
   "metadata": {
    "collapsed": true
   },
   "outputs": [],
   "source": [
    "def splitDataSet(dataSet, axis, value):\n",
    "    \"\"\"\n",
    "    按给定特征划分数据集\n",
    "    参数：\n",
    "        dataSet -- 待划分的数据集\n",
    "        axis -- 划分的参照特征\n",
    "        value -- 分界线的特征值\n",
    "    \"\"\"\n",
    "    #新建存放划分后数据集的列表\n",
    "    retDataSet = []\n",
    "    #遍历数据集中的书籍\n",
    "    for featVec in dataSet:\n",
    "        #找到划分界限\n",
    "        if featVec[axis] == value:\n",
    "            #取之前的特征，不包括参照特征\n",
    "            reducedFeatVec = featVec[:axis]\n",
    "            #取之后的特征，不包括参照特征\n",
    "            reducedFeatVec.extend(featVec[axis+1:])\n",
    "            #添加到划分数据集中\n",
    "            retDataSet.append(reducedFeatVec)\n",
    "    return retDataSet"
   ]
  },
  {
   "cell_type": "markdown",
   "metadata": {},
   "source": [
    "### 3.1.4.测试划分数据集函数"
   ]
  },
  {
   "cell_type": "code",
   "execution_count": 15,
   "metadata": {},
   "outputs": [
    {
     "name": "stdout",
     "output_type": "stream",
     "text": [
      "myDat = [[1, True, 'yes'], [1, True, 'yes'], [1, False, 'no'], [0, True, 'no'], [0, True, 'no']]\n",
      "myDat第一个特征为1的划分 = [[True, 'yes'], [True, 'yes'], [False, 'no']]\n",
      "myDat第一个特征为0的划分 = [[True, 'no'], [True, 'no']]\n"
     ]
    }
   ],
   "source": [
    "myDat, labels = createDataSet()\n",
    "print(\"myDat = {}\".format(myDat))\n",
    "print(\"myDat第一个特征为1的划分 = {}\".format(splitDataSet(myDat,0,1)))\n",
    "print(\"myDat第一个特征为0的划分 = {}\".format(splitDataSet(myDat,0,0)))"
   ]
  },
  {
   "cell_type": "markdown",
   "metadata": {},
   "source": [
    "### 3.1.5选择最好的数据集划分方式"
   ]
  },
  {
   "cell_type": "code",
   "execution_count": 16,
   "metadata": {
    "collapsed": true
   },
   "outputs": [],
   "source": [
    "def chooseBestFeatureToSplit(dataSet):\n",
    "    \"\"\"\n",
    "    选择最好的划分参照特征，也就是使得信息增益最大的划分方式\n",
    "    参数：\n",
    "        dataSet -- 数据集\n",
    "    返回：\n",
    "        bestFeature -- 最好的数据集\n",
    "    \"\"\"\n",
    "    #求特征数，-1是去掉标签\n",
    "    numFeatures = len(dataSet[0]) - 1\n",
    "    #求数据集的香农熵\n",
    "    baseEntropy = calcShannonEnt(dataSet)\n",
    "    #初始化最佳信息增益，和最好的参照特征\n",
    "    bestInfoGain = 0.0\n",
    "    bestFeature = -1\n",
    "    #遍历每个特征\n",
    "    for i in range(numFeatures):\n",
    "        #取每个数据的第i个特征值\n",
    "        featList = [example[i] for example in dataSet]\n",
    "        #把这些特征值作为一个集合\n",
    "        uniqueVals = set(featList)\n",
    "        #初始化划分后的熵\n",
    "        newEntropy = 0.0\n",
    "        #遍历集合中的特征值\n",
    "        for value in uniqueVals:\n",
    "            #取第i个特征值为value子集\n",
    "            subDataSet = splitDataSet(dataSet, i, value)\n",
    "            #计算概率\n",
    "            prob = len(subDataSet) / np.float(len(dataSet))\n",
    "            #计算划分后的熵，为各个子集熵的期望\n",
    "            newEntropy += prob * calcShannonEnt(subDataSet)\n",
    "        #计算信息增益\n",
    "        infoGain = baseEntropy - newEntropy\n",
    "        #如果当前以i特征划分得到的信息增益大于之前的最大值\n",
    "        if (infoGain > bestInfoGain):\n",
    "            #加冕为王\n",
    "            bestInfoGain = infoGain\n",
    "            bestFeature = i\n",
    "    return bestFeature"
   ]
  },
  {
   "cell_type": "markdown",
   "metadata": {},
   "source": [
    "### 3.1.6.测试选择最佳划分方式的函数"
   ]
  },
  {
   "cell_type": "code",
   "execution_count": 17,
   "metadata": {},
   "outputs": [
    {
     "name": "stdout",
     "output_type": "stream",
     "text": [
      "myDat = [[1, True, 'yes'], [1, True, 'yes'], [1, False, 'no'], [0, True, 'no'], [0, True, 'no']]\n",
      "最好的划分参照特征是，特征“0”\n"
     ]
    }
   ],
   "source": [
    "myDat, labels = createDataSet()\n",
    "print(\"myDat = {}\".format(myDat))\n",
    "print(\"最好的划分参照特征是，特征“{}”\".format(chooseBestFeatureToSplit(myDat)))"
   ]
  },
  {
   "cell_type": "markdown",
   "metadata": {},
   "source": [
    "### 3.1.7.递归构建决策树"
   ]
  },
  {
   "cell_type": "code",
   "execution_count": 18,
   "metadata": {
    "collapsed": true
   },
   "outputs": [],
   "source": [
    "def majorityCnt(classList):\n",
    "    \"\"\"\n",
    "    求出现次数最多分类的名称\n",
    "    参数：\n",
    "        classList -- 类列表\n",
    "    返回：\n",
    "        sortedClassCount[0][0] -- 最多分类的名称\n",
    "    \"\"\"\n",
    "    #新建一个类计数器，字典\n",
    "    classCount = {}\n",
    "    #遍历类列表\n",
    "    for vote in classList:\n",
    "        #如果第一次遇到一个类\n",
    "        if vote not in classCount.keys():\n",
    "            #新建一个类计数器\n",
    "            classCount[vote] = 0\n",
    "        #计数+1\n",
    "        classCount[vote] += 1\n",
    "        #排序\n",
    "    sortedClassCount = sorted(classCount.iteritems(), key = operator.itemgetter(1), reverse = True)\n",
    "    return sortedClassCount[0][0]"
   ]
  },
  {
   "cell_type": "code",
   "execution_count": 28,
   "metadata": {
    "collapsed": true
   },
   "outputs": [],
   "source": [
    "def createTree(dataSet, featLabels):\n",
    "    \"\"\"\n",
    "    创建决策树的递归函数\n",
    "    参数：\n",
    "        dataSet -- 数据集\n",
    "        labels -- 标签\n",
    "    返回：\n",
    "        myTree -- 创建的决策树\n",
    "    \"\"\"\n",
    "    #复制一份特征列表，因为后边要对labels做del，会改变原参数\n",
    "    labels = list.copy(featLabels)\n",
    "    #得到类列表\n",
    "    classList = [example[-1] for example in dataSet]\n",
    "    #如果类列表中只有一类\n",
    "    if classList.count(classList[0]) == len(classList):\n",
    "        #返回该类，结束函数\n",
    "        return classList[0]\n",
    "    #如果数据只有类，没有数据，也就是用尽所有特征也没法把数据划分成单一类\n",
    "    if len(dataSet[0]) == 1:\n",
    "        #返回最多的那一类，结束函数\n",
    "        return majorityCnt(classList)\n",
    "    #最佳分类特征的序号\n",
    "    bestFeat = chooseBestFeatureToSplit(dataSet)\n",
    "    #最佳分类标签\n",
    "    bestFeatLabel = labels[bestFeat]\n",
    "    #初始化决策树，字典型\n",
    "    myTree = {bestFeatLabel:{}}\n",
    "    #从列表中删除划分过的类\n",
    "    del(labels[bestFeat])\n",
    "    #得到特征值\n",
    "    featValues = [example[bestFeat] for example in dataSet]\n",
    "    #值的集合\n",
    "    uniqueVals = set(featValues)\n",
    "    #遍历所有值\n",
    "    for value in uniqueVals:\n",
    "        #剩余的类别名称\n",
    "        subLabels = labels[:]\n",
    "        #调用子节点递归函数\n",
    "        myTree[bestFeatLabel][value] = createTree(splitDataSet(dataSet, bestFeat, value), subLabels)\n",
    "    #返回给父节点迭代函数\n",
    "    return myTree"
   ]
  },
  {
   "cell_type": "markdown",
   "metadata": {},
   "source": [
    "### 3.1.8.测试建立决策树的递归函数"
   ]
  },
  {
   "cell_type": "code",
   "execution_count": 29,
   "metadata": {},
   "outputs": [
    {
     "name": "stdout",
     "output_type": "stream",
     "text": [
      "myTree = {'no surfacing': {0: 'no', 1: {'flippers': {False: 'no', True: 'yes'}}}}\n"
     ]
    }
   ],
   "source": [
    "myDat, labels = createDataSet()\n",
    "myTree = createTree(myDat, labels)\n",
    "print(\"myTree = {}\".format(myTree))"
   ]
  },
  {
   "cell_type": "markdown",
   "metadata": {},
   "source": [
    "## 3.2.在Python中使用Matplotlib注解绘制树形图\n",
    "### 3.2.1.Matplotlib注解"
   ]
  },
  {
   "cell_type": "code",
   "execution_count": 48,
   "metadata": {
    "collapsed": true
   },
   "outputs": [],
   "source": [
    "#图形设置\n",
    "decisionNode = dict(boxstyle = \"sawtooth\", fc = \"0.8\")\n",
    "leafNode = dict(boxstyle = \"round4\", fc = \"0.8\")\n",
    "arrow_args = dict(arrowstyle = \"<-\")"
   ]
  },
  {
   "cell_type": "code",
   "execution_count": 54,
   "metadata": {
    "collapsed": true
   },
   "outputs": [],
   "source": [
    "def plotNode(nodeTxt, centerPt, parentPt, nodeType):\n",
    "    \"\"\"\n",
    "    绘制节点\n",
    "    参数：\n",
    "        nodeTxt -- 点的内容\n",
    "        centerPt -- 中心点\n",
    "        parentPt -- 父节点\n",
    "        nodeType -- 点类型\n",
    "    返回：\n",
    "        无\n",
    "    \"\"\"\n",
    "    createPlot.ax1.annotate(nodeTxt, xy = parentPt, \\\n",
    "            xycoords = 'axes fraction', xytext = centerPt, \\\n",
    "            textcoords = 'axes fraction', va = \"center\", \\\n",
    "            ha = \"center\", bbox = nodeType, arrowprops = arrow_args)"
   ]
  },
  {
   "cell_type": "code",
   "execution_count": 58,
   "metadata": {},
   "outputs": [],
   "source": [
    "def createPlot():\n",
    "    \"\"\"\n",
    "    进行绘制\n",
    "    参数：\n",
    "        无\n",
    "    返回：\n",
    "        无\n",
    "    \"\"\"\n",
    "    fig = plt.figure(1, facecolor = 'white')\n",
    "    fig.clf()\n",
    "    createPlot.ax1 = plt.subplot(111, frameon = False)\n",
    "    plotNode('decisionNode', (0.5, 0.1), (0.1, 0.5), decisionNode)\n",
    "    plotNode('leafNode', (0.8, 0.1), (0.3, 0.8), leafNode)\n",
    "    plt.show()"
   ]
  },
  {
   "cell_type": "code",
   "execution_count": 59,
   "metadata": {},
   "outputs": [
    {
     "data": {
      "image/png": "[encoded data removed]",
      "text/plain": [
       "<matplotlib.figure.Figure at 0x2aee9b575c0>"
      ]
     },
     "metadata": {},
     "output_type": "display_data"
    }
   ],
   "source": [
    "createPlot()"
   ]
  },
  {
   "cell_type": "markdown",
   "metadata": {},
   "source": [
    "### 3.2.2.构造注解树"
   ]
  },
  {
   "cell_type": "code",
   "execution_count": 67,
   "metadata": {
    "collapsed": true
   },
   "outputs": [],
   "source": [
    "def getNumLeafs(myTree):\n",
    "    \"\"\"\n",
    "    获取叶节点的数目\n",
    "    参数：\n",
    "        myTree -- 决策树\n",
    "    返回：\n",
    "        numLeafs -- 叶节点的数目\n",
    "    \"\"\"\n",
    "    #初始化叶节点的数目\n",
    "    numLeafs = 0\n",
    "    #根节点的类名称\n",
    "    firstStr = list(myTree.keys())[0]\n",
    "    #根节点对应的字典\n",
    "    secondDict = myTree[firstStr]\n",
    "    #遍历字典中的每一个关键词\n",
    "    for key in list(secondDict.keys()):\n",
    "        #如果关键词下存放的还是字典，说明不是叶节点\n",
    "        if type(secondDict[key]).__name__ == 'dict':\n",
    "            #递归调用函数，统计子节点中的叶节点数目\n",
    "            numLeafs += getNumLeafs(secondDict[key])\n",
    "        #是叶节点，计数器++\n",
    "        else:\n",
    "            numLeafs += 1\n",
    "    return numLeafs"
   ]
  },
  {
   "cell_type": "code",
   "execution_count": 70,
   "metadata": {
    "collapsed": true
   },
   "outputs": [],
   "source": [
    "def getTreeDepth(myTree):\n",
    "    \"\"\"\n",
    "    获得树的深度\n",
    "    参数：\n",
    "        myTree -- 决策树\n",
    "    返回：\n",
    "        maxDepth -- 树的深度\n",
    "    \"\"\"\n",
    "    #初始化树的深度\n",
    "    maxDepth = 0\n",
    "    firstStr = list(myTree.keys())[0]\n",
    "    secondDict = myTree[firstStr]\n",
    "    for key in list(secondDict.keys()):\n",
    "        if type(secondDict[key]).__name__ == 'dict':\n",
    "            #深度 = 1 + 子树的深度\n",
    "            thisDepth = 1 + getTreeDepth(secondDict[key])\n",
    "        else:\n",
    "            thisDepth = 1\n",
    "        if thisDepth > maxDepth:\n",
    "            maxDepth = thisDepth\n",
    "    return maxDepth"
   ]
  },
  {
   "cell_type": "code",
   "execution_count": 65,
   "metadata": {
    "collapsed": true
   },
   "outputs": [],
   "source": [
    "def retrieveTree(i):\n",
    "    listOfTrees = [{'no surfacing': {0: 'no', 1:{'flippers': \\\n",
    "                    {0: 'no', 1: 'yes'}}}},\n",
    "                  {'no surfacing': {0: 'no', 1: {'flippers': \\\n",
    "                    {0: {'head': {0: 'no', 1: 'yes'}}, 1: 'no'}}}}\n",
    "                  ]\n",
    "    return listOfTrees[i]"
   ]
  },
  {
   "cell_type": "code",
   "execution_count": 71,
   "metadata": {},
   "outputs": [
    {
     "name": "stdout",
     "output_type": "stream",
     "text": [
      "retrieveTree(1) = {'no surfacing': {0: 'no', 1: {'flippers': {0: {'head': {0: 'no', 1: 'yes'}}, 1: 'no'}}}}\n",
      "叶节点数 = 3\n",
      "层数 = 2\n"
     ]
    }
   ],
   "source": [
    "print(\"retrieveTree(1) = {}\".format(retrieveTree(1)))\n",
    "myTree = retrieveTree(0)\n",
    "print(\"叶节点数 = {}\".format(getNumLeafs(myTree)))\n",
    "print(\"层数 = {}\".format(getTreeDepth(myTree)))"
   ]
  },
  {
   "cell_type": "markdown",
   "metadata": {},
   "source": [
    "### 3.2.3绘制决策树"
   ]
  },
  {
   "cell_type": "code",
   "execution_count": 73,
   "metadata": {},
   "outputs": [],
   "source": [
    "def plotMidText(cntrPt, parentPt, txtString):\n",
    "    \"\"\"\n",
    "    绘制注释\n",
    "    参数：\n",
    "        cntrPt -- 中心点位置\n",
    "        parentPt -- 父节点位置\n",
    "        txtString -- 文本字符串\n",
    "    返回：\n",
    "        无\n",
    "    \"\"\"\n",
    "    #绘制注释的坐标位置\n",
    "    xMid = (parentPt[0] - cntrPt[0]) / 2.0 + cntrPt[0]\n",
    "    yMid = (parentPt[1] - cntrPt[1]) / 2.0 + cntrPt[1]\n",
    "    #绘制注释\n",
    "    createPlot.ax1.text(xMid, yMid, txtString)"
   ]
  },
  {
   "cell_type": "code",
   "execution_count": 78,
   "metadata": {
    "collapsed": true
   },
   "outputs": [],
   "source": [
    "def plotTree(myTree, parentPt, nodeTxt):\n",
    "    \"\"\"\n",
    "    绘制决策树\n",
    "    参数：\n",
    "        myTree -- 决策树\n",
    "        parentPt -- 父节点位置\n",
    "        nodeTxt -- 节点文本信息\n",
    "    返回：\n",
    "        无\n",
    "    \"\"\"\n",
    "    #求树的叶节点数和层数\n",
    "    numLeafs = getNumLeafs(myTree)\n",
    "    depth = getTreeDepth(myTree)\n",
    "    firstStr = list(myTree.keys())[0]\n",
    "    cntrPt = (plotTree.xOff + (1.0 + np.float(numLeafs)) / 2.0 \\\n",
    "             / plotTree.totalW, plotTree.yOff)\n",
    "    plotMidText(cntrPt, parentPt, nodeTxt)\n",
    "    plotNode(firstStr, cntrPt, parentPt, decisionNode)\n",
    "    secondDict = myTree[firstStr]\n",
    "    plotTree.yOff = plotTree.yOff - 1.0 / plotTree.totalD\n",
    "    for key in list(secondDict.keys()):\n",
    "        if type(secondDict[key]).__name__ == 'dict':\n",
    "            plotTree(secondDict[key], cntrPt, str(key))\n",
    "        else:\n",
    "            plotTree.xOff = plotTree.xOff + 1.0 / plotTree.totalW\n",
    "            plotNode(secondDict[key], (plotTree.xOff, plotTree.yOff),\\\n",
    "                    cntrPt, leafNode)\n",
    "            plotMidText((plotTree.xOff, plotTree.yOff), cntrPt, str(key))\n",
    "    plotTree.yOff = plotTree.yOff + 1.0 / plotTree.totalD"
   ]
  },
  {
   "cell_type": "code",
   "execution_count": 76,
   "metadata": {},
   "outputs": [],
   "source": [
    "def createPlotTree(inTree):\n",
    "    \"\"\"\n",
    "    进行绘制\n",
    "    参数：\n",
    "        inTree -- 决策树\n",
    "    返回：\n",
    "        无\n",
    "    \"\"\"\n",
    "    fig = plt.figure(1, facecolor = 'white')\n",
    "    fig.clf()\n",
    "    axprops = dict(xticks = [], yticks = [])\n",
    "    createPlot.ax1 = plt.subplot(111, frameon = False, **axprops)\n",
    "    plotTree.totalW = np.float(getNumLeafs(inTree))\n",
    "    plotTree.totalD = np.float(getTreeDepth(inTree))\n",
    "    plotTree.xOff = -0.5 / plotTree.totalW\n",
    "    plotTree.yOff = 1.0\n",
    "    plotTree(inTree, (0.5, 1.0), '')\n",
    "    plt.show()"
   ]
  },
  {
   "cell_type": "code",
   "execution_count": 79,
   "metadata": {},
   "outputs": [
    {
     "data": {
      "image/png": "[encoded data removed]",
      "text/plain": [
       "<matplotlib.figure.Figure at 0x2aee9c7b5c0>"
      ]
     },
     "metadata": {},
     "output_type": "display_data"
    }
   ],
   "source": [
    "myTree = retrieveTree(0)\n",
    "createPlotTree(myTree)"
   ]
  },
  {
   "cell_type": "code",
   "execution_count": 80,
   "metadata": {},
   "outputs": [
    {
     "data": {
      "image/png": "[encoded data removed]",
      "text/plain": [
       "<matplotlib.figure.Figure at 0x2aee9da09e8>"
      ]
     },
     "metadata": {},
     "output_type": "display_data"
    }
   ],
   "source": [
    "myTree['no surfacing'][3] = 'maybe'\n",
    "createPlotTree(myTree)"
   ]
  },
  {
   "cell_type": "markdown",
   "metadata": {
    "collapsed": true
   },
   "source": [
    "## 3.3.测试和存储分类器\n",
    "### 3.3.1.使用决策树执行分类"
   ]
  },
  {
   "cell_type": "code",
   "execution_count": 30,
   "metadata": {
    "collapsed": true
   },
   "outputs": [],
   "source": [
    "def classify(inputTree, featLabels, testVec):\n",
    "    \"\"\"\n",
    "    使用决策树执行分类，递归函数\n",
    "    参数：\n",
    "        inputTree -- 输入决策树，字典\n",
    "        featLabels -- 特征名的列表\n",
    "        testVec -- 测试向量\n",
    "    返回：\n",
    "        classLabel -- 预测分类\n",
    "    \"\"\"\n",
    "    #根节点类型\n",
    "    firstStr = list(inputTree.keys())[0]\n",
    "    #根节点对应字典\n",
    "    secondDict = inputTree[firstStr]\n",
    "    #求根特征对应的特征序号\n",
    "    featIndex = featLabels.index(firstStr)\n",
    "    #遍历所有关键词\n",
    "    for key in secondDict.keys():\n",
    "        #匹配到了待分类向量的第featIndex个特征\n",
    "        if testVec[featIndex] == key:\n",
    "            #不是叶子节点，节点元素是一个字典\n",
    "            if type(secondDict[key]).__name__ == 'dict':\n",
    "                #对这个字典递归调用分类函数\n",
    "                classLabel = classify(secondDict[key],featLabels, testVec)\n",
    "            else:\n",
    "                classLabel = secondDict[key]\n",
    "    return classLabel"
   ]
  },
  {
   "cell_type": "markdown",
   "metadata": {},
   "source": [
    "### 3.3.2.测试决策树分类函数"
   ]
  },
  {
   "cell_type": "code",
   "execution_count": 33,
   "metadata": {},
   "outputs": [
    {
     "name": "stdout",
     "output_type": "stream",
     "text": [
      "myDat = [[1, True, 'yes'], [1, True, 'yes'], [1, False, 'no'], [0, True, 'no'], [0, True, 'no']]\n",
      "labels = ['no surfacing', 'flippers']\n",
      "myTree = {'no surfacing': {0: 'no', 1: {'flippers': {False: 'no', True: 'yes'}}}}\n",
      "[1, 0]属于no\n",
      "[1, 1]属于yes\n"
     ]
    }
   ],
   "source": [
    "myDat, labels = createDataSet()\n",
    "print(\"myDat = {}\".format(myDat))\n",
    "print(\"labels = {}\".format(labels))\n",
    "myTree = createTree(myDat, labels)\n",
    "print(\"myTree = {}\".format(myTree))\n",
    "print(\"[1, 0]属于{}\".format(classify(myTree, labels, [1, 0])))\n",
    "print(\"[1, 1]属于{}\".format(classify(myTree, labels, [1, 1])))"
   ]
  },
  {
   "cell_type": "markdown",
   "metadata": {},
   "source": [
    "### 3.3.3.存储读取决策树"
   ]
  },
  {
   "cell_type": "code",
   "execution_count": 44,
   "metadata": {
    "collapsed": true
   },
   "outputs": [],
   "source": [
    "def storeTree(inputTree, filename):\n",
    "    \"\"\"\n",
    "    存储决策树\n",
    "    参数：\n",
    "        inputTree -- 输入决策树\n",
    "        filename -- 文件名\n",
    "    返回：\n",
    "        无 -- 直接存储文件\n",
    "    \"\"\"\n",
    "    import pickle\n",
    "    #可写的文件指针\n",
    "    fw = open(filename, 'wb')\n",
    "    #存储决策树\n",
    "    pickle.dump(str(inputTree), fw)\n",
    "    #关闭指针\n",
    "    fw.close()\n",
    "\n",
    "def grabTree(filename):\n",
    "    \"\"\"\n",
    "    提取决策树\n",
    "    参数：\n",
    "        filename -- 文件名\n",
    "    返回：\n",
    "        tree -- 读取到的决策树\n",
    "    \"\"\"\n",
    "    import pickle\n",
    "    #打开只读文件指针\n",
    "    fr = open(filename, 'rb')\n",
    "    #载入文件内容\n",
    "    tree = pickle.load(fr)\n",
    "    return tree"
   ]
  },
  {
   "cell_type": "code",
   "execution_count": 45,
   "metadata": {},
   "outputs": [
    {
     "name": "stdout",
     "output_type": "stream",
     "text": [
      "读取到的决策树 = {'no surfacing': {0: 'no', 1: {'flippers': {False: 'no', True: 'yes'}}}}\n"
     ]
    }
   ],
   "source": [
    "storeTree(myTree, \"classifierStorage.txt\")\n",
    "loadedTree = grabTree(\"classifierStorage.txt\")\n",
    "print(\"读取到的决策树 = {}\".format(loadedTree))"
   ]
  },
  {
   "cell_type": "markdown",
   "metadata": {},
   "source": [
    "## 3.4.预测隐形眼镜类型\n",
    "### 3.4.1.读取数据"
   ]
  },
  {
   "cell_type": "code",
   "execution_count": 46,
   "metadata": {
    "collapsed": true
   },
   "outputs": [],
   "source": [
    "fr = open(\"lenses.txt\")\n",
    "lenses = [inst.strip().split('\\t') for inst in fr.readlines()]\n",
    "lensesLabels = ['age', 'prescript', 'astigmatic', 'tearRate']"
   ]
  },
  {
   "cell_type": "markdown",
   "metadata": {},
   "source": [
    "### 3.4.2.生成决策树"
   ]
  },
  {
   "cell_type": "code",
   "execution_count": 47,
   "metadata": {},
   "outputs": [
    {
     "name": "stdout",
     "output_type": "stream",
     "text": [
      "lensesTree = {'tearRate': {'reduced': 'no lenses', 'normal': {'astigmatic': {'yes': {'prescript': {'myope': 'hard', 'hyper': {'age': {'presbyopic': 'no lenses', 'pre': 'no lenses', 'young': 'hard'}}}}, 'no': {'age': {'presbyopic': {'prescript': {'myope': 'no lenses', 'hyper': 'soft'}}, 'pre': 'soft', 'young': 'soft'}}}}}}\n"
     ]
    }
   ],
   "source": [
    "lensesTree = createTree(lenses, lensesLabels)\n",
    "print(\"lensesTree = {}\".format(lensesTree))"
   ]
  },
  {
   "cell_type": "code",
   "execution_count": 81,
   "metadata": {},
   "outputs": [
    {
     "data": {
      "image/png": "[encoded data removed]",
      "text/plain": [
       "<matplotlib.figure.Figure at 0x2aee9bd3908>"
      ]
     },
     "metadata": {},
     "output_type": "display_data"
    }
   ],
   "source": [
    "createPlotTree(lensesTree)"
   ]
  }
 ],
 "metadata": {
  "kernelspec": {
   "display_name": "Python 3",
   "language": "python",
   "name": "python3"
  },
  "language_info": {
   "codemirror_mode": {
    "name": "ipython",
    "version": 3
   },
   "file_extension": ".py",
   "mimetype": "text/x-python",
   "name": "python",
   "nbconvert_exporter": "python",
   "pygments_lexer": "ipython3",
   "version": "3.6.1"
  }
 },
 "nbformat": 4,
 "nbformat_minor": 2
}
